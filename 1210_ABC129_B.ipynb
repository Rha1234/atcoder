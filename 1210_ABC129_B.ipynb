{
 "cells": [
  {
   "cell_type": "code",
   "execution_count": 18,
   "metadata": {},
   "outputs": [
    {
     "name": "stdin",
     "output_type": "stream",
     "text": [
      " 8\n",
      " 27 23 76 2 3 5 62 52\n"
     ]
    },
    {
     "name": "stdout",
     "output_type": "stream",
     "text": [
      "2\n"
     ]
    }
   ],
   "source": [
    "N = int(input())\n",
    "W = list(map(int, input().split()))\n",
    "\n",
    "diff = []\n",
    "\n",
    "for i in range(N):\n",
    "    diff.append(abs(sum(W[:(i+1)]) - sum(W[(i+1):])))\n",
    "\n",
    "print(min(diff))"
   ]
  },
  {
   "cell_type": "code",
   "execution_count": 15,
   "metadata": {},
   "outputs": [
    {
     "data": {
      "text/plain": [
       "[1, 9]"
      ]
     },
     "execution_count": 15,
     "metadata": {},
     "output_type": "execute_result"
    }
   ],
   "source": [
    "diff"
   ]
  },
  {
   "cell_type": "code",
   "execution_count": 39,
   "metadata": {},
   "outputs": [
    {
     "name": "stdin",
     "output_type": "stream",
     "text": [
      " 21\n",
      " 33\n",
      " 45\n",
      " 57\n",
      " 70\n"
     ]
    },
    {
     "data": {
      "text/plain": [
       "[30, 40, 50, 60, 70]"
      ]
     },
     "execution_count": 39,
     "metadata": {},
     "output_type": "execute_result"
    }
   ],
   "source": [
    "menu = [int(input()) for _ in range(5)]\n",
    "new_menu = []\n",
    "for m in menu:\n",
    "    if m%10==0:\n",
    "        new_menu.append(m)\n",
    "    else:\n",
    "        new_menu.append(((m//10)+1)*10)\n",
    "new_menu\n",
    "\n",
    "for m in menu:\n",
    "    if m%10!=0:\n",
    "        \n",
    "\n",
    "menu2 = menu.sorted()"
   ]
  }
 ],
 "metadata": {
  "kernelspec": {
   "display_name": "Python 3",
   "language": "python",
   "name": "python3"
  },
  "language_info": {
   "codemirror_mode": {
    "name": "ipython",
    "version": 3
   },
   "file_extension": ".py",
   "mimetype": "text/x-python",
   "name": "python",
   "nbconvert_exporter": "python",
   "pygments_lexer": "ipython3",
   "version": "3.8.5"
  }
 },
 "nbformat": 4,
 "nbformat_minor": 4
}

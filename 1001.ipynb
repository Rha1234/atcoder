{
 "cells": [
  {
   "cell_type": "code",
   "execution_count": 6,
   "metadata": {},
   "outputs": [
    {
     "name": "stdin",
     "output_type": "stream",
     "text": [
      " １\n",
      " １０００\n"
     ]
    },
    {
     "name": "stdout",
     "output_type": "stream",
     "text": [
      "1000.0\n"
     ]
    }
   ],
   "source": [
    "# 入力を受け通る\n",
    "N=int(input())\n",
    "A=list(map(int,input().split()))\n",
    "\n",
    "# 逆数の総和を求める\n",
    "tmp=0\n",
    "for a in A:\n",
    "    tmp += 1/a\n",
    "\n",
    "# 総和の逆数を求める\n",
    "ret=1/tmp\n",
    "\n",
    "print(ret)"
   ]
  },
  {
   "cell_type": "code",
   "execution_count": 8,
   "metadata": {},
   "outputs": [
    {
     "name": "stdin",
     "output_type": "stream",
     "text": [
      " 1\n",
      " 1000\n"
     ]
    },
    {
     "name": "stdout",
     "output_type": "stream",
     "text": [
      "1000.0\n"
     ]
    }
   ],
   "source": [
    "import numpy as np\n",
    "\n",
    "# 入力を受け通る\n",
    "# 受け取るときnp.arrayにしておく\n",
    "N = int(input())\n",
    "A = np.array(list(map(int,input().split())))\n",
    "\n",
    "# 逆数の総和を求める\n",
    "tmp = np.sum(1.0/A)\n",
    "\n",
    "# 総和の逆数を求める\n",
    "ret = 1/tmp\n",
    "\n",
    "print(ret)"
   ]
  },
  {
   "cell_type": "markdown",
   "metadata": {},
   "source": [
    "## sum と numpy.sumの比較\n",
    "numpy.sum(計算式)は、各要素ごとに計算式を計算して、それをsumしてくれるらしい"
   ]
  },
  {
   "cell_type": "code",
   "execution_count": 14,
   "metadata": {},
   "outputs": [
    {
     "data": {
      "text/plain": [
       "1.5333333333333332"
      ]
     },
     "execution_count": 14,
     "metadata": {},
     "output_type": "execute_result"
    }
   ],
   "source": [
    "import numpy as np\n",
    "\n",
    "l1 = [1,3,5]\n",
    "l2 = np.array([1,3,5])\n",
    "\n",
    "# ret1 = sum(1/l1)  =>  error\n",
    "ret2 = np.sum(1/l2)\n",
    "\n",
    "ret2"
   ]
  },
  {
   "cell_type": "code",
   "execution_count": 13,
   "metadata": {},
   "outputs": [
    {
     "data": {
      "text/plain": [
       "1.5333333333333332"
      ]
     },
     "execution_count": 13,
     "metadata": {},
     "output_type": "execute_result"
    }
   ],
   "source": [
    "1/1 + 1/3 + 1/5"
   ]
  },
  {
   "cell_type": "code",
   "execution_count": null,
   "metadata": {},
   "outputs": [],
   "source": []
  }
 ],
 "metadata": {
  "kernelspec": {
   "display_name": "Python 3",
   "language": "python",
   "name": "python3"
  },
  "language_info": {
   "codemirror_mode": {
    "name": "ipython",
    "version": 3
   },
   "file_extension": ".py",
   "mimetype": "text/x-python",
   "name": "python",
   "nbconvert_exporter": "python",
   "pygments_lexer": "ipython3",
   "version": "3.7.0"
  }
 },
 "nbformat": 4,
 "nbformat_minor": 4
}

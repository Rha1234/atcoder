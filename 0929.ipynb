{
 "cells": [
  {
   "cell_type": "raw",
   "metadata": {},
   "source": [
    "https://atcoder.jp/contests/abc155/tasks/abc155_b"
   ]
  },
  {
   "cell_type": "markdown",
   "metadata": {},
   "source": [
    "### 日本語って難しい\n",
    "あくまで条件は<b>「書類に書かれている整数のうち、偶数であるものは全て、3 または 5 で割り切れる」</b>であることに注意。奇数は駄目とはどこにも書いていない。"
   ]
  },
  {
   "cell_type": "code",
   "execution_count": 4,
   "metadata": {},
   "outputs": [
    {
     "name": "stdin",
     "output_type": "stream",
     "text": [
      " 5\n",
      " 6 7 9 10 31\n"
     ]
    },
    {
     "name": "stdout",
     "output_type": "stream",
     "text": [
      "APPROVED\n"
     ]
    }
   ],
   "source": [
    "# 入力を受け取る\n",
    "N = int(input())\n",
    "A = list(map(int,input().split()))\n",
    "\n",
    "# Aの中に偶数があったとき、その偶数はすべて3または5で割り切れなければいけない\n",
    "# まず偶数を抽出する\n",
    "evens = [num for num in A if num % 2==0]\n",
    "\n",
    "# リスト内の要素がすべて３か５で割り切れるかを判定する\n",
    "# all()は、boolのリストに対して、リスト内要素がすべてTrueの場合に、Trueを返す\n",
    "bool_list = [even%3==0 or even%5==0 for even in evens]\n",
    "result = all(bool_list)\n",
    "\n",
    "print('APPROVED' if result else 'DENIED')"
   ]
  }
 ],
 "metadata": {
  "kernelspec": {
   "display_name": "Python 3",
   "language": "python",
   "name": "python3"
  },
  "language_info": {
   "codemirror_mode": {
    "name": "ipython",
    "version": 3
   },
   "file_extension": ".py",
   "mimetype": "text/x-python",
   "name": "python",
   "nbconvert_exporter": "python",
   "pygments_lexer": "ipython3",
   "version": "3.7.0"
  }
 },
 "nbformat": 4,
 "nbformat_minor": 4
}

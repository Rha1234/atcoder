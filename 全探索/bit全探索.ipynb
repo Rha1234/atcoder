{
 "cells": [
  {
   "cell_type": "markdown",
   "metadata": {},
   "source": [
    "# bit全探索\n",
    "## ※すぐ忘れるから復習を怠らないこと"
   ]
  },
  {
   "cell_type": "markdown",
   "metadata": {},
   "source": [
    "* 任意のn個の選択肢それぞれに2択の選択肢(0/1, Yes/No)がある\n",
    "* 全パターンは２^n\n",
    "* 選択肢の全パターンを2進数のbitに見立てて、シフト演算でチェックを行う全探索の方法"
   ]
  },
  {
   "cell_type": "markdown",
   "metadata": {},
   "source": [
    "## bitシフト（<font color=red>右シフト</font>）\n",
    "* <b><font color=red>左辺の値を、右辺の値だけ、右へシフトする</font></b>\n",
    "* x >> n"
   ]
  },
  {
   "cell_type": "markdown",
   "metadata": {},
   "source": [
    "<b>10進数の10は、2進数で1010となる。（0bは2進数のプレフィックス）</b>"
   ]
  },
  {
   "cell_type": "code",
   "execution_count": 17,
   "metadata": {},
   "outputs": [
    {
     "data": {
      "text/plain": [
       "'0b1010'"
      ]
     },
     "execution_count": 17,
     "metadata": {},
     "output_type": "execute_result"
    }
   ],
   "source": [
    "bin(10)"
   ]
  },
  {
   "cell_type": "markdown",
   "metadata": {},
   "source": [
    "<b>10を2だけ右へシフトすると、1010の下2桁が削られて、空いた左から2桁が0で埋められて、2進数で0010となる。</b>"
   ]
  },
  {
   "cell_type": "code",
   "execution_count": 15,
   "metadata": {},
   "outputs": [
    {
     "data": {
      "text/plain": [
       "'0b10'"
      ]
     },
     "execution_count": 15,
     "metadata": {},
     "output_type": "execute_result"
    }
   ],
   "source": [
    "bin(10>>2)"
   ]
  },
  {
   "cell_type": "markdown",
   "metadata": {},
   "source": [
    "<b>りんご、みかん、ぶどうの3個の選択肢それぞれに、【買う/買わない】があったとして、パターンは2^3通り。<br>\n",
    "それぞれの【買う/買わない】をbitで表現する。</b>\n"
   ]
  },
  {
   "cell_type": "raw",
   "metadata": {},
   "source": [
    "000 > 何も買わない\n",
    "001 > ぶどうだけ買う\n",
    "011 > みかん・ぶどうを買う\n",
    "111 > りんご・みかん・ぶどうを全て買う"
   ]
  },
  {
   "cell_type": "markdown",
   "metadata": {},
   "source": []
  },
  {
   "cell_type": "markdown",
   "metadata": {},
   "source": [
    "https://atcoder.jp/contests/abc079/tasks/abc079_c"
   ]
  },
  {
   "cell_type": "markdown",
   "metadata": {},
   "source": [
    "↓　input()はstr（charのリスト）なので、内包表記で各1文字ずつに対して処理を書いている。"
   ]
  },
  {
   "cell_type": "code",
   "execution_count": 4,
   "metadata": {},
   "outputs": [
    {
     "name": "stdin",
     "output_type": "stream",
     "text": [
      " 1234\n"
     ]
    },
    {
     "data": {
      "text/plain": [
       "[1, 2, 3, 4]"
      ]
     },
     "execution_count": 4,
     "metadata": {},
     "output_type": "execute_result"
    }
   ],
   "source": [
    "ABCD=[int(x) for x in input()]\n",
    "ABCD"
   ]
  }
 ],
 "metadata": {
  "kernelspec": {
   "display_name": "Python 3",
   "language": "python",
   "name": "python3"
  },
  "language_info": {
   "codemirror_mode": {
    "name": "ipython",
    "version": 3
   },
   "file_extension": ".py",
   "mimetype": "text/x-python",
   "name": "python",
   "nbconvert_exporter": "python",
   "pygments_lexer": "ipython3",
   "version": "3.7.0"
  }
 },
 "nbformat": 4,
 "nbformat_minor": 4
}

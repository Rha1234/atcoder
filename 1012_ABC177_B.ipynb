{
 "cells": [
  {
   "cell_type": "code",
   "execution_count": 15,
   "metadata": {},
   "outputs": [
    {
     "name": "stdin",
     "output_type": "stream",
     "text": [
      " codeforces\n",
      " atcoder\n"
     ]
    },
    {
     "name": "stdout",
     "output_type": "stream",
     "text": [
      "6\n"
     ]
    }
   ],
   "source": [
    "# 入力を受け取る\n",
    "S=input() #abcdef\n",
    "T=input() #abc\n",
    "\n",
    "# Tと比較対象の文字列を作成する\n",
    "# >> SからTと同じ文字数分の文字列を切り出して、候補となる文字列を全パターン作成する\n",
    "# >> パターンを作成する際にTの文字列との文字の不一致数（文字変更数）をカウントし、リストに格納する\n",
    "# >> 最後にリストの最小値を取ると、最小文字変更数が求まる\n",
    "\n",
    "change_nums=[]\n",
    "\n",
    "for i in range(len(S)-len(T)+1):\n",
    "    tmp=0\n",
    "    for j,k in zip(S[i:i+len(T)], T):\n",
    "        if j!=k:\n",
    "            tmp+=1\n",
    "    change_nums.append(tmp)\n",
    "\n",
    "print(min(change_nums))"
   ]
  },
  {
   "cell_type": "code",
   "execution_count": null,
   "metadata": {},
   "outputs": [],
   "source": []
  }
 ],
 "metadata": {
  "kernelspec": {
   "display_name": "Python 3",
   "language": "python",
   "name": "python3"
  },
  "language_info": {
   "codemirror_mode": {
    "name": "ipython",
    "version": 3
   },
   "file_extension": ".py",
   "mimetype": "text/x-python",
   "name": "python",
   "nbconvert_exporter": "python",
   "pygments_lexer": "ipython3",
   "version": "3.7.0"
  }
 },
 "nbformat": 4,
 "nbformat_minor": 4
}

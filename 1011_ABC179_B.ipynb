{
 "cells": [
  {
   "cell_type": "code",
   "execution_count": 1,
   "metadata": {},
   "outputs": [
    {
     "name": "stdin",
     "output_type": "stream",
     "text": [
      " 3\n",
      " 1 2\n",
      " 2 3\n",
      " 3 3\n"
     ]
    },
    {
     "data": {
      "text/plain": [
       "[[1, 2], [2, 3], [3, 3]]"
      ]
     },
     "execution_count": 1,
     "metadata": {},
     "output_type": "execute_result"
    }
   ],
   "source": [
    "N=int(input())\n",
    "D=[]\n",
    "for _ in range(N):\n",
    "    D.append(list(map(int,input().split())))"
   ]
  },
  {
   "cell_type": "code",
   "execution_count": 4,
   "metadata": {},
   "outputs": [
    {
     "name": "stdin",
     "output_type": "stream",
     "text": [
      " 3\n",
      " 1 2\n",
      " 2 3\n",
      " 3 4\n"
     ]
    },
    {
     "data": {
      "text/plain": [
       "[[1, 2], [2, 3], [3, 4]]"
      ]
     },
     "execution_count": 4,
     "metadata": {},
     "output_type": "execute_result"
    }
   ],
   "source": [
    "N=int(input())\n",
    "D=[list(map(int,input().split())) for _ in range(N)]"
   ]
  },
  {
   "cell_type": "code",
   "execution_count": 6,
   "metadata": {},
   "outputs": [
    {
     "name": "stdin",
     "output_type": "stream",
     "text": [
      " 6\n",
      " 1 1\n",
      " 2 2\n",
      " 3 3\n",
      " 4 4\n",
      " 5 5\n",
      " 6 6\n"
     ]
    },
    {
     "name": "stdout",
     "output_type": "stream",
     "text": [
      "Yes\n"
     ]
    }
   ],
   "source": [
    "#ループ回数Nと、N回のサイコロ振りの入力を受け取る\n",
    "N=int(input())\n",
    "D=[list(map(int,input().split())) for _ in range(N)]\n",
    "\n",
    "#結果を'No',カウンターを0で初期化する\n",
    "result='No'\n",
    "cnt=0\n",
    "\n",
    "#N回サイコロを振る中で１回目と２回目の結果を比較する\n",
    "#一致したらカウンターを1プラスする\n",
    "#３連続で一致したら結果を更新してループを抜ける\n",
    "for e in D:\n",
    "    if e[0]==e[1]:\n",
    "        cnt += 1\n",
    "    if cnt>=3:\n",
    "        result='Yes'\n",
    "        break\n",
    "\n",
    "#結果を出力する\n",
    "print(result)"
   ]
  },
  {
   "cell_type": "markdown",
   "metadata": {},
   "source": [
    "### 上記は間違い\n",
    "* cntが３連続じゃなくても加算されてしまう\n",
    "* cntが一致しない場合は-1してみる？　⇒　そうすると-3とかになってしまう\n",
    "* 0に更新することにした"
   ]
  },
  {
   "cell_type": "code",
   "execution_count": 9,
   "metadata": {},
   "outputs": [
    {
     "name": "stdin",
     "output_type": "stream",
     "text": [
      " 5\n",
      " 1 2\n",
      " 2 2\n",
      " 3 3\n",
      " 4 4\n",
      " 4 5\n"
     ]
    },
    {
     "name": "stdout",
     "output_type": "stream",
     "text": [
      "Yes\n"
     ]
    }
   ],
   "source": [
    "#ループ回数Nと、N回のサイコロ振りの入力を受け取る\n",
    "N=int(input())\n",
    "D=[list(map(int,input().split())) for _ in range(N)]\n",
    "\n",
    "#結果を'No',カウンターを0で初期化する\n",
    "result='No'\n",
    "cnt=0\n",
    "\n",
    "#N回サイコロを振る中で１回目と２回目の結果を比較する\n",
    "#一致したらカウンターを1プラスする\n",
    "#一致しなかったらカウンターを0に更新する\n",
    "#３連続で一致したら結果を更新してループを抜ける\n",
    "for e in D:\n",
    "    if e[0]==e[1]:\n",
    "        cnt += 1\n",
    "    else:\n",
    "        cnt = 0\n",
    "    if cnt>=3:\n",
    "        result='Yes'\n",
    "        break\n",
    "\n",
    "#結果を出力する\n",
    "print(result)"
   ]
  },
  {
   "cell_type": "markdown",
   "metadata": {},
   "source": [
    "### ループを削減できないか\n",
    "* 現状、input取る時と、ロジックで判断するとき、と２回ループを回している\n",
    "* input取るときにまとめて出来ないか"
   ]
  },
  {
   "cell_type": "code",
   "execution_count": 16,
   "metadata": {},
   "outputs": [
    {
     "name": "stdin",
     "output_type": "stream",
     "text": [
      " 5\n",
      " 1 2\n",
      " 2 2\n",
      " 3 3\n",
      " 4 4\n",
      " 5 4\n"
     ]
    },
    {
     "name": "stdout",
     "output_type": "stream",
     "text": [
      "Yes\n"
     ]
    }
   ],
   "source": [
    "# input()と同時に処理するためにメソッドを定義\n",
    "def return_count(num_list, count):\n",
    "    # カウンターが３以上のときはロジックに入らないように制御する\n",
    "    if count >=3:\n",
    "        pass\n",
    "    # カウンターが３未満のときはリストの要素を比較して一致していればカウントを加算、一致していなければ０に再度更新する\n",
    "    else:\n",
    "        if num_list[0]==num_list[1]:\n",
    "            count += 1\n",
    "        else:\n",
    "            count = 0\n",
    "    # カウンターを返す\n",
    "    return count\n",
    "\n",
    "\n",
    "\n",
    "# ループ回数Nを受け取る\n",
    "N=int(input())\n",
    "\n",
    "# カウンターを初期化する\n",
    "cnt = 0\n",
    "\n",
    "# N回のループ内でメソッドを実行する\n",
    "for _ in range(N):\n",
    "    cnt = return_count(input().split(), cnt)\n",
    "\n",
    "# カウンターの値に応じて結果を出力する\n",
    "print('Yes' if cnt >= 3 else 'No')"
   ]
  },
  {
   "cell_type": "markdown",
   "metadata": {},
   "source": [
    "### メソッド化はやめて取った瞬間に普通に比較する"
   ]
  },
  {
   "cell_type": "code",
   "execution_count": 24,
   "metadata": {},
   "outputs": [
    {
     "name": "stdin",
     "output_type": "stream",
     "text": [
      " 5\n",
      " 1 2\n",
      " 2 2\n",
      " 3 3\n",
      " 4 4\n",
      " 4 5\n"
     ]
    },
    {
     "name": "stdout",
     "output_type": "stream",
     "text": [
      "Yes\n"
     ]
    }
   ],
   "source": [
    "N=int(input())\n",
    "cnt=0\n",
    "\n",
    "for _ in range(N):\n",
    "    A,B=map(int,input().split())\n",
    "    if A==B:\n",
    "        cnt+=1\n",
    "    else:\n",
    "        if cnt>=3:\n",
    "            pass\n",
    "        else:\n",
    "            cnt=0\n",
    "\n",
    "print('Yes' if cnt>=3 else 'No')"
   ]
  },
  {
   "cell_type": "code",
   "execution_count": null,
   "metadata": {},
   "outputs": [],
   "source": []
  }
 ],
 "metadata": {
  "kernelspec": {
   "display_name": "Python 3",
   "language": "python",
   "name": "python3"
  },
  "language_info": {
   "codemirror_mode": {
    "name": "ipython",
    "version": 3
   },
   "file_extension": ".py",
   "mimetype": "text/x-python",
   "name": "python",
   "nbconvert_exporter": "python",
   "pygments_lexer": "ipython3",
   "version": "3.7.0"
  }
 },
 "nbformat": 4,
 "nbformat_minor": 4
}

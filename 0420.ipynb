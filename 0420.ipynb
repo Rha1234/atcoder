{
 "cells": [
  {
   "cell_type": "raw",
   "metadata": {},
   "source": [
    "https://atcoder.jp/contests/abc150/tasks/abc150_a"
   ]
  },
  {
   "cell_type": "code",
   "execution_count": 3,
   "metadata": {},
   "outputs": [
    {
     "name": "stdin",
     "output_type": "stream",
     "text": [
      " 4 2000\n"
     ]
    },
    {
     "name": "stdout",
     "output_type": "stream",
     "text": [
      "Yes\n"
     ]
    }
   ],
   "source": [
    "K,X=map(int,input().split())\n",
    "print('Yes' if 500*K>=X else 'No')"
   ]
  },
  {
   "cell_type": "raw",
   "metadata": {},
   "source": [
    "https://atcoder.jp/contests/abc149/tasks/abc149_a"
   ]
  },
  {
   "cell_type": "code",
   "execution_count": 4,
   "metadata": {},
   "outputs": [
    {
     "name": "stdin",
     "output_type": "stream",
     "text": [
      " oder atc\n"
     ]
    },
    {
     "name": "stdout",
     "output_type": "stream",
     "text": [
      "atcoder\n"
     ]
    }
   ],
   "source": [
    "S,T=input().split()\n",
    "print(T,S,sep='')"
   ]
  },
  {
   "cell_type": "raw",
   "metadata": {},
   "source": [
    "https://atcoder.jp/contests/abc148/tasks/abc148_a"
   ]
  },
  {
   "cell_type": "code",
   "execution_count": null,
   "metadata": {},
   "outputs": [],
   "source": []
  }
 ],
 "metadata": {
  "kernelspec": {
   "display_name": "Python 3",
   "language": "python",
   "name": "python3"
  },
  "language_info": {
   "codemirror_mode": {
    "name": "ipython",
    "version": 3
   },
   "file_extension": ".py",
   "mimetype": "text/x-python",
   "name": "python",
   "nbconvert_exporter": "python",
   "pygments_lexer": "ipython3",
   "version": "3.7.5"
  }
 },
 "nbformat": 4,
 "nbformat_minor": 4
}

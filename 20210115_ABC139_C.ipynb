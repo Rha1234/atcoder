{
 "cells": [
  {
   "cell_type": "code",
   "execution_count": 44,
   "metadata": {},
   "outputs": [
    {
     "name": "stdin",
     "output_type": "stream",
     "text": [
      " 7\n",
      " 4 3 2 4 3 2 1\n"
     ]
    },
    {
     "name": "stdout",
     "output_type": "stream",
     "text": [
      "2\n"
     ]
    }
   ],
   "source": [
    "N = int(input())\n",
    "H = list(map(int, input().split()))\n",
    "\n",
    "max_cnt = 0\n",
    "cnt = 0\n",
    "\n",
    "for i in range(N):\n",
    "    if i == N-1:\n",
    "        if max_cnt <= cnt:\n",
    "            max_cnt = cnt\n",
    "        break\n",
    "    elif H[i] < H[i+1]:\n",
    "        if max_cnt <= cnt:\n",
    "            max_cnt = cnt\n",
    "        cnt = 0\n",
    "        continue\n",
    "    elif H[i] >= H[i+1]:\n",
    "        cnt += 1\n",
    "\n",
    "print(max_cnt)"
   ]
  },
  {
   "cell_type": "code",
   "execution_count": 43,
   "metadata": {},
   "outputs": [
    {
     "name": "stdout",
     "output_type": "stream",
     "text": [
      "0\n",
      "1\n",
      "2\n",
      "3\n",
      "4\n"
     ]
    }
   ],
   "source": [
    "for i in range(5):\n",
    "    print(i)"
   ]
  },
  {
   "cell_type": "code",
   "execution_count": null,
   "metadata": {},
   "outputs": [],
   "source": []
  }
 ],
 "metadata": {
  "kernelspec": {
   "display_name": "Python 3",
   "language": "python",
   "name": "python3"
  },
  "language_info": {
   "codemirror_mode": {
    "name": "ipython",
    "version": 3
   },
   "file_extension": ".py",
   "mimetype": "text/x-python",
   "name": "python",
   "nbconvert_exporter": "python",
   "pygments_lexer": "ipython3",
   "version": "3.8.5"
  }
 },
 "nbformat": 4,
 "nbformat_minor": 4
}

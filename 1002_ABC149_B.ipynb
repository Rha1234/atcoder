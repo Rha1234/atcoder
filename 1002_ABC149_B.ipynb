{
 "cells": [
  {
   "cell_type": "markdown",
   "metadata": {},
   "source": [
    "# 下の実装だとタイムアウト？"
   ]
  },
  {
   "cell_type": "code",
   "execution_count": 18,
   "metadata": {},
   "outputs": [
    {
     "name": "stdin",
     "output_type": "stream",
     "text": [
      " 2 3 3\n"
     ]
    },
    {
     "name": "stdout",
     "output_type": "stream",
     "text": [
      "0 2\n"
     ]
    }
   ],
   "source": [
    "# 入力を受け取る\n",
    "A,B,K = map(int,input().split())\n",
    "\n",
    "# 行動をK回繰り返す\n",
    "for i in range(K):\n",
    "    if A >= 1:\n",
    "        A -= 1\n",
    "    elif B >= 1:\n",
    "        B -= 1\n",
    "    else:\n",
    "        pass\n",
    "\n",
    "# 結果を出力する\n",
    "print(A, B, sep=' ')"
   ]
  },
  {
   "cell_type": "markdown",
   "metadata": {},
   "source": [
    "# 算数で考える"
   ]
  },
  {
   "cell_type": "markdown",
   "metadata": {},
   "source": [
    "条件分岐は、K<=Aの場合、A<=K<=A+Bの場合、A+B<=Kの場合"
   ]
  },
  {
   "cell_type": "code",
   "execution_count": 29,
   "metadata": {},
   "outputs": [
    {
     "name": "stdin",
     "output_type": "stream",
     "text": [
      " 500000000000 500000000000 1000000000000\n"
     ]
    },
    {
     "name": "stdout",
     "output_type": "stream",
     "text": [
      "0 0\n"
     ]
    }
   ],
   "source": [
    "# 入力を受け取る\n",
    "A,B,K = map(int,input().split())\n",
    "\n",
    "# 条件分岐に応じて式をつくる\n",
    "ret_A = A\n",
    "ret_B = B\n",
    "\n",
    "if A+B<=K:\n",
    "    ret_A = 0\n",
    "    ret_B = 0\n",
    "elif A<=K<=A+B:\n",
    "    ret_A = 0\n",
    "    ret_B = B-(K-A)\n",
    "else:\n",
    "    ret_A = A-K\n",
    "    ret_B = B\n",
    "\n",
    "# 結果を出力する\n",
    "print(ret_A, ret_B, sep=' ')"
   ]
  },
  {
   "cell_type": "code",
   "execution_count": null,
   "metadata": {},
   "outputs": [],
   "source": []
  }
 ],
 "metadata": {
  "kernelspec": {
   "display_name": "Python 3",
   "language": "python",
   "name": "python3"
  },
  "language_info": {
   "codemirror_mode": {
    "name": "ipython",
    "version": 3
   },
   "file_extension": ".py",
   "mimetype": "text/x-python",
   "name": "python",
   "nbconvert_exporter": "python",
   "pygments_lexer": "ipython3",
   "version": "3.7.0"
  }
 },
 "nbformat": 4,
 "nbformat_minor": 4
}

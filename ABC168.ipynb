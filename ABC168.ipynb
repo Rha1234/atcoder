{
 "cells": [
  {
   "cell_type": "markdown",
   "metadata": {},
   "source": [
    "https://atcoder.jp/contests/abc168/tasks/abc168_a"
   ]
  },
  {
   "cell_type": "code",
   "execution_count": 14,
   "metadata": {},
   "outputs": [
    {
     "name": "stdin",
     "output_type": "stream",
     "text": [
      " 13\n"
     ]
    },
    {
     "name": "stdout",
     "output_type": "stream",
     "text": [
      "bon\n"
     ]
    }
   ],
   "source": [
    "dics={\n",
    "    0:'pon',\n",
    "    1:'pon',\n",
    "    2:'hon',\n",
    "    3:'bon',\n",
    "    4:'hon',\n",
    "    5:'hon',\n",
    "    6:'pon',\n",
    "    7:'hon',\n",
    "    8:'pon',\n",
    "    9:'hon'\n",
    "}\n",
    "N=input()\n",
    "print(dics[int(N[len(N)-1])])"
   ]
  },
  {
   "cell_type": "markdown",
   "metadata": {},
   "source": [
    "https://atcoder.jp/contests/abc168/tasks/abc168_b"
   ]
  },
  {
   "cell_type": "code",
   "execution_count": 20,
   "metadata": {},
   "outputs": [
    {
     "name": "stdin",
     "output_type": "stream",
     "text": [
      " 7\n",
      " nikoandsolstice\n"
     ]
    },
    {
     "name": "stdout",
     "output_type": "stream",
     "text": [
      "nikoand...\n"
     ]
    }
   ],
   "source": [
    "K=int(input())\n",
    "S=input()\n",
    "print(S if len(S)<=K else S[:K]+'...')"
   ]
  },
  {
   "cell_type": "markdown",
   "metadata": {},
   "source": [
    "https://atcoder.jp/contests/abc168/tasks/abc168_c"
   ]
  },
  {
   "cell_type": "code",
   "execution_count": 53,
   "metadata": {},
   "outputs": [
    {
     "name": "stdin",
     "output_type": "stream",
     "text": [
      " 3 4 10 40\n"
     ]
    },
    {
     "name": "stdout",
     "output_type": "stream",
     "text": [
      "4.564257194330056\n"
     ]
    }
   ],
   "source": [
    "import math\n",
    "\n",
    "A,B,H,M=map(int,input().split())\n",
    "\n",
    "# 時針の初期度数＋分に応じた度数\n",
    "hour_rad = (30*H)+(0.5*M)\n",
    "\n",
    "# 分針の度数\n",
    "minutes_rad = 6*M\n",
    "\n",
    "# 時針と分針の間の角度\n",
    "clock_rad = 0\n",
    "if abs(minutes_rad - hour_rad) <= 180:\n",
    "    clock_rad = abs(minutes_rad - hour_rad)\n",
    "else:\n",
    "    clock_rad = 360 - abs(minutes_rad - hour_rad)\n",
    "\n",
    "#print('hour : ' + str(hour_rad))\n",
    "#print('min : ' + str(minutes_rad))\n",
    "#print('clock : ' + str(clock_rad))\n",
    "\n",
    "ans=math.sqrt((A**2)+(B**2)-2*A*B*math.cos(math.radians(clock_rad)))\n",
    "print(ans)"
   ]
  },
  {
   "cell_type": "code",
   "execution_count": null,
   "metadata": {},
   "outputs": [],
   "source": []
  }
 ],
 "metadata": {
  "kernelspec": {
   "display_name": "Python 3",
   "language": "python",
   "name": "python3"
  },
  "language_info": {
   "codemirror_mode": {
    "name": "ipython",
    "version": 3
   },
   "file_extension": ".py",
   "mimetype": "text/x-python",
   "name": "python",
   "nbconvert_exporter": "python",
   "pygments_lexer": "ipython3",
   "version": "3.7.5"
  }
 },
 "nbformat": 4,
 "nbformat_minor": 4
}

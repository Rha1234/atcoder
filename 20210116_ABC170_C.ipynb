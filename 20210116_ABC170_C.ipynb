{
 "cells": [
  {
   "cell_type": "code",
   "execution_count": 15,
   "metadata": {},
   "outputs": [
    {
     "name": "stdin",
     "output_type": "stream",
     "text": [
      " 100 0\n",
      " \n"
     ]
    },
    {
     "name": "stdout",
     "output_type": "stream",
     "text": [
      "100\n"
     ]
    }
   ],
   "source": [
    "X,N = map(int, input().split())\n",
    "P = sorted(list(map(int, input().split())))\n",
    "ret = X\n",
    "diff = 1\n",
    "\n",
    "while True:\n",
    "    if ret not in P:\n",
    "        break\n",
    "    elif ret-diff not in P:\n",
    "        ret = ret-diff\n",
    "        break\n",
    "    elif ret+diff not in P:\n",
    "        ret = ret+diff\n",
    "        break\n",
    "    else:\n",
    "        diff += 1\n",
    "\n",
    "print(ret)"
   ]
  },
  {
   "cell_type": "code",
   "execution_count": null,
   "metadata": {},
   "outputs": [],
   "source": []
  }
 ],
 "metadata": {
  "kernelspec": {
   "display_name": "Python 3",
   "language": "python",
   "name": "python3"
  },
  "language_info": {
   "codemirror_mode": {
    "name": "ipython",
    "version": 3
   },
   "file_extension": ".py",
   "mimetype": "text/x-python",
   "name": "python",
   "nbconvert_exporter": "python",
   "pygments_lexer": "ipython3",
   "version": "3.8.5"
  }
 },
 "nbformat": 4,
 "nbformat_minor": 4
}

{
 "cells": [
  {
   "cell_type": "code",
   "execution_count": 2,
   "metadata": {},
   "outputs": [
    {
     "name": "stdin",
     "output_type": "stream",
     "text": [
      " 4 330\n",
      " 0 1 10 100\n",
      " 0 1 10 100\n",
      " 0 1 10 100\n",
      " 0 1 10 100\n"
     ]
    },
    {
     "data": {
      "text/plain": [
       "[[0, 1, 10, 100], [0, 1, 10, 100], [0, 1, 10, 100], [0, 1, 10, 100]]"
      ]
     },
     "execution_count": 2,
     "metadata": {},
     "output_type": "execute_result"
    }
   ],
   "source": [
    "N,K=map(int,input().split())\n",
    "T=[]\n",
    "for i in range(N):\n",
    "    T.append(list(map(int,input().split())))"
   ]
  },
  {
   "cell_type": "code",
   "execution_count": null,
   "metadata": {},
   "outputs": [],
   "source": [
    "import itertools\n",
    "\n",
    "N, K = map(int,input().split())\n",
    "T = [list(map(int, input().split())) for _ in range(N)]\n",
    "\n",
    "kumi = itertools.permutations(range(1, N))\n",
    "\n",
    "cnt = 0\n",
    "for t in kumi:\n",
    "    now = 0\n",
    "    l = 0\n",
    "    for u in t:\n",
    "        l += T[now][u]\n",
    "        now = u\n",
    "    l += T[now][0]\n",
    "    \n",
    "    if l == K:\n",
    "        cnt += 1\n",
    "        \n",
    "print(cnt)"
   ]
  }
 ],
 "metadata": {
  "kernelspec": {
   "display_name": "Python 3",
   "language": "python",
   "name": "python3"
  },
  "language_info": {
   "codemirror_mode": {
    "name": "ipython",
    "version": 3
   },
   "file_extension": ".py",
   "mimetype": "text/x-python",
   "name": "python",
   "nbconvert_exporter": "python",
   "pygments_lexer": "ipython3",
   "version": "3.8.5"
  }
 },
 "nbformat": 4,
 "nbformat_minor": 4
}

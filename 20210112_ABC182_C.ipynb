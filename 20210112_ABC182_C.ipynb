{
 "cells": [
  {
   "cell_type": "code",
   "execution_count": 51,
   "metadata": {},
   "outputs": [
    {
     "name": "stdin",
     "output_type": "stream",
     "text": [
      " 1234\n"
     ]
    },
    {
     "name": "stdout",
     "output_type": "stream",
     "text": [
      "[]\n",
      "['1']\n",
      "['2']\n",
      "['1', '2']\n",
      "['3']\n",
      "['1', '3']\n",
      "['2', '3']\n",
      "['1', '2', '3']\n",
      "['4']\n",
      "['1', '4']\n",
      "['2', '4']\n",
      "['1', '2', '4']\n",
      "['3', '4']\n",
      "['1', '3', '4']\n",
      "['2', '3', '4']\n",
      "['1', '2', '3', '4']\n"
     ]
    }
   ],
   "source": [
    "N = input()\n",
    "\n",
    "sum_N = sum(list(map(int, N)))\n",
    "cnt = len(N)\n",
    "\n",
    "for i in range(2**len(N)):\n",
    "    tmp = []\n",
    "    for j in range(len(N)):\n",
    "        if ((i >> j) & 1):\n",
    "            tmp.append(N[j])\n",
    "    print(tmp)\n"
   ]
  },
  {
   "cell_type": "code",
   "execution_count": 57,
   "metadata": {},
   "outputs": [
    {
     "name": "stdin",
     "output_type": "stream",
     "text": [
      " 35\n"
     ]
    },
    {
     "name": "stdout",
     "output_type": "stream",
     "text": [
      "2\n"
     ]
    }
   ],
   "source": [
    "N = input()\n",
    "n = int(N)\n",
    "sum_N = sum(list(map(int, N)))\n",
    "cnt = 0\n",
    "ret = -1\n",
    "\n",
    "for i in range(2**len(N)):\n",
    "    tmp = sum_N\n",
    "    for j in range(len(N)):\n",
    "        if ((i >> j) & 1):\n",
    "            tmp -= int(N[j])\n",
    "    \n",
    "print(ret)"
   ]
  },
  {
   "cell_type": "code",
   "execution_count": 59,
   "metadata": {},
   "outputs": [
    {
     "name": "stdin",
     "output_type": "stream",
     "text": [
      " 1234\n"
     ]
    },
    {
     "data": {
      "text/plain": [
       "10"
      ]
     },
     "execution_count": 59,
     "metadata": {},
     "output_type": "execute_result"
    }
   ],
   "source": [
    "import itertools as it\n",
    "\n",
    "N = input()\n",
    "sum_N = sum(list(map(int, N)))\n",
    "\n"
   ]
  },
  {
   "cell_type": "code",
   "execution_count": null,
   "metadata": {},
   "outputs": [],
   "source": []
  }
 ],
 "metadata": {
  "kernelspec": {
   "display_name": "Python 3",
   "language": "python",
   "name": "python3"
  },
  "language_info": {
   "codemirror_mode": {
    "name": "ipython",
    "version": 3
   },
   "file_extension": ".py",
   "mimetype": "text/x-python",
   "name": "python",
   "nbconvert_exporter": "python",
   "pygments_lexer": "ipython3",
   "version": "3.8.5"
  }
 },
 "nbformat": 4,
 "nbformat_minor": 4
}

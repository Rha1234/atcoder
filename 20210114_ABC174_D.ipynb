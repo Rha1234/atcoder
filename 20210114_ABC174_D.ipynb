{
 "cells": [
  {
   "cell_type": "code",
   "execution_count": 6,
   "metadata": {},
   "outputs": [
    {
     "name": "stdin",
     "output_type": "stream",
     "text": [
      " 8\n",
      " WRWWRWRR\n"
     ]
    },
    {
     "name": "stdout",
     "output_type": "stream",
     "text": [
      "3\n"
     ]
    }
   ],
   "source": [
    "N=int(input())\n",
    "S=input()\n",
    "cnt=0\n",
    "\n",
    "while 'WR' in S:\n",
    "    w_index = S.find('W')\n",
    "    r_index = S.rfind('R')\n",
    "    S = S[:w_index] + 'R' + S[w_index+1:r_index] + 'W' + S[r_index+1:]\n",
    "    cnt += 1\n",
    "\n",
    "print(cnt)"
   ]
  },
  {
   "cell_type": "code",
   "execution_count": 2,
   "metadata": {},
   "outputs": [
    {
     "data": {
      "text/plain": [
       "'RRWWRWRW'"
      ]
     },
     "execution_count": 2,
     "metadata": {},
     "output_type": "execute_result"
    }
   ],
   "source": [
    "S='WRWWRWRR'\n",
    "\n",
    "if 'WR' in S:\n",
    "    w_index = S.find('W')\n",
    "    r_index = S.rfind('R')\n",
    "    S2 = S[:w_index] + 'R' + S[w_index+1:r_index] + 'W' + S[r_index+1:]\n",
    "\n",
    "S2"
   ]
  },
  {
   "cell_type": "code",
   "execution_count": null,
   "metadata": {},
   "outputs": [],
   "source": []
  }
 ],
 "metadata": {
  "kernelspec": {
   "display_name": "Python 3",
   "language": "python",
   "name": "python3"
  },
  "language_info": {
   "codemirror_mode": {
    "name": "ipython",
    "version": 3
   },
   "file_extension": ".py",
   "mimetype": "text/x-python",
   "name": "python",
   "nbconvert_exporter": "python",
   "pygments_lexer": "ipython3",
   "version": "3.8.5"
  }
 },
 "nbformat": 4,
 "nbformat_minor": 4
}

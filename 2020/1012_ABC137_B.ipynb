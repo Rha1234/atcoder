{
 "cells": [
  {
   "cell_type": "code",
   "execution_count": 6,
   "metadata": {},
   "outputs": [
    {
     "name": "stdin",
     "output_type": "stream",
     "text": [
      " 3 7\n"
     ]
    },
    {
     "name": "stdout",
     "output_type": "stream",
     "text": [
      "5 6 7 8 9 "
     ]
    }
   ],
   "source": [
    "#入力を受け取る\n",
    "K,X=map(int,input().split())\n",
    "\n",
    "#rangeで開始と終了を指定してリストを作る\n",
    "#\n",
    "# 3 7\n",
    "# 5 6 7 8 9\n",
    "#\n",
    "nums=list(range(X-K+1,X+K))\n",
    "\n",
    "#結果を出力する\n",
    "for num in nums:\n",
    "    print(num, end=' ')"
   ]
  },
  {
   "cell_type": "code",
   "execution_count": 8,
   "metadata": {},
   "outputs": [
    {
     "name": "stdin",
     "output_type": "stream",
     "text": [
      " 3 7\n"
     ]
    },
    {
     "name": "stdout",
     "output_type": "stream",
     "text": [
      "5 6 7 8 9 "
     ]
    }
   ],
   "source": [
    "import numpy as np\n",
    "\n",
    "#入力を受け取る\n",
    "K,X=map(int,input().split())\n",
    "\n",
    "#np.arangeでリスト作る\n",
    "nums=np.arange(X-K+1,X+K)\n",
    "\n",
    "#結果を出力する\n",
    "for _ in nums:\n",
    "    print(_, end=' ')"
   ]
  },
  {
   "cell_type": "code",
   "execution_count": 20,
   "metadata": {},
   "outputs": [
    {
     "name": "stdin",
     "output_type": "stream",
     "text": [
      " 3 7\n"
     ]
    },
    {
     "data": {
      "text/plain": [
       "[5, 6, 7, 8, 9]"
      ]
     },
     "execution_count": 20,
     "metadata": {},
     "output_type": "execute_result"
    }
   ],
   "source": [
    "#入力を受け取る\n",
    "K,X=map(int,input().split())\n",
    "\n",
    "#空リスト作成\n",
    "nums=[]\n",
    "\n",
    "for _ in range(K):\n",
    "    nums.append(_+X)\n",
    "    nums.append(X-_)\n",
    "\n",
    "sorted(set(nums))"
   ]
  },
  {
   "cell_type": "code",
   "execution_count": null,
   "metadata": {},
   "outputs": [],
   "source": []
  }
 ],
 "metadata": {
  "kernelspec": {
   "display_name": "Python 3",
   "language": "python",
   "name": "python3"
  },
  "language_info": {
   "codemirror_mode": {
    "name": "ipython",
    "version": 3
   },
   "file_extension": ".py",
   "mimetype": "text/x-python",
   "name": "python",
   "nbconvert_exporter": "python",
   "pygments_lexer": "ipython3",
   "version": "3.7.0"
  }
 },
 "nbformat": 4,
 "nbformat_minor": 4
}

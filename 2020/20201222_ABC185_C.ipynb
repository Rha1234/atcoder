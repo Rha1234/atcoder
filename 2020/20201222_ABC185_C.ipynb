{
 "cells": [
  {
   "cell_type": "raw",
   "metadata": {},
   "source": [
    "N = int(input())\n",
    "\n",
    "1, 2, l1, 3, l2, ... ,N\n",
    "1, 2, l2, 3, l1, ... ,N\n",
    "\n",
    "l1 ~ l11\n",
    "\n",
    "N + 11 個の順列を作って、11!で割る\n",
    "\n",
    "\n",
    "N = 13\n",
    "\n",
    "\n",
    "1  2  3  4  5  ... 13\n",
    "\n",
    "13_C_1\n",
    "13/1\n",
    "\n",
    "\n",
    "1  2  3  4  5  ... 14\n",
    "\n",
    "13_C_2\n",
    "(13*12)/(2*1)"
   ]
  },
  {
   "cell_type": "code",
   "execution_count": 14,
   "metadata": {},
   "outputs": [
    {
     "name": "stdin",
     "output_type": "stream",
     "text": [
      " 15\n"
     ]
    },
    {
     "name": "stdout",
     "output_type": "stream",
     "text": [
      "364\n"
     ]
    }
   ],
   "source": [
    "import math\n",
    "\n",
    "L = int(input())\n",
    "\n",
    "ret = math.factorial(L-1) // (math.factorial(11) * math.factorial((L-1)-11))\n",
    "\n",
    "print(ret)"
   ]
  },
  {
   "cell_type": "code",
   "execution_count": 13,
   "metadata": {},
   "outputs": [
    {
     "data": {
      "text/plain": [
       "364.0"
      ]
     },
     "execution_count": 13,
     "metadata": {},
     "output_type": "execute_result"
    }
   ],
   "source": [
    "(14*13*12)/(3*2*1)"
   ]
  },
  {
   "cell_type": "code",
   "execution_count": null,
   "metadata": {},
   "outputs": [],
   "source": [
    "import math\n",
    "\n",
    "L = int(input())\n",
    "\n",
    "ret = round( math.factorial(L-1) / (math.factorial(11) * math.factorial((L-1)-11)) )\n",
    "\n",
    "print(ret)"
   ]
  }
 ],
 "metadata": {
  "kernelspec": {
   "display_name": "Python 3",
   "language": "python",
   "name": "python3"
  },
  "language_info": {
   "codemirror_mode": {
    "name": "ipython",
    "version": 3
   },
   "file_extension": ".py",
   "mimetype": "text/x-python",
   "name": "python",
   "nbconvert_exporter": "python",
   "pygments_lexer": "ipython3",
   "version": "3.8.5"
  }
 },
 "nbformat": 4,
 "nbformat_minor": 4
}

{
 "cells": [
  {
   "cell_type": "code",
   "execution_count": 5,
   "metadata": {},
   "outputs": [
    {
     "name": "stdin",
     "output_type": "stream",
     "text": [
      " 6\n",
      " a\n",
      " b\n",
      " b\n",
      " b\n",
      " c\n",
      " a\n"
     ]
    },
    {
     "name": "stdout",
     "output_type": "stream",
     "text": [
      "b\n"
     ]
    }
   ],
   "source": [
    "from collections import Counter\n",
    "\n",
    "N = int(input())\n",
    "\n",
    "tmp_list = [input() for i in range(N)]\n",
    "counter = Counter(tmp_list)\n",
    "\n",
    "print(counter.most_common()[0][0])"
   ]
  },
  {
   "cell_type": "code",
   "execution_count": 9,
   "metadata": {},
   "outputs": [
    {
     "name": "stdin",
     "output_type": "stream",
     "text": [
      " 5\n",
      " a\n",
      " b\n",
      " b\n",
      " c\n",
      " c\n"
     ]
    },
    {
     "name": "stdout",
     "output_type": "stream",
     "text": [
      "b\n"
     ]
    }
   ],
   "source": [
    "N=int(input())\n",
    "L=[input() for _ in range(N)]\n",
    "\n",
    "D={}\n",
    "max_k=''\n",
    "max_v=0\n",
    "\n",
    "for l in L:\n",
    "    if l not in D:\n",
    "        D[l]=1\n",
    "    else:\n",
    "        D[l]+=1\n",
    "    if D[l]>max_v:\n",
    "        max_v=D[l]\n",
    "        max_k=l\n",
    "\n",
    "print(max_k)"
   ]
  },
  {
   "cell_type": "code",
   "execution_count": null,
   "metadata": {},
   "outputs": [],
   "source": []
  }
 ],
 "metadata": {
  "kernelspec": {
   "display_name": "Python 3",
   "language": "python",
   "name": "python3"
  },
  "language_info": {
   "codemirror_mode": {
    "name": "ipython",
    "version": 3
   },
   "file_extension": ".py",
   "mimetype": "text/x-python",
   "name": "python",
   "nbconvert_exporter": "python",
   "pygments_lexer": "ipython3",
   "version": "3.7.0"
  }
 },
 "nbformat": 4,
 "nbformat_minor": 4
}

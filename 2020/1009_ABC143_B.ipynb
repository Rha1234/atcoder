{
 "cells": [
  {
   "cell_type": "code",
   "execution_count": 7,
   "metadata": {},
   "outputs": [
    {
     "name": "stdin",
     "output_type": "stream",
     "text": [
      " 3\n",
      " 1 2 3\n"
     ]
    },
    {
     "name": "stdout",
     "output_type": "stream",
     "text": [
      "11\n"
     ]
    }
   ],
   "source": [
    "import numpy as np\n",
    "import itertools as itr\n",
    "\n",
    "# 入力を受け取る\n",
    "N = int(input())\n",
    "D = list(map(int, input().split()))\n",
    "\n",
    "# たこ焼きの全組み合わせを作成する\n",
    "tako_cmb = np.array(list(itr.combinations(D,2)))\n",
    "\n",
    "# (x,y)\n",
    "# (x,y)\n",
    "# (x,y)\n",
    "\n",
    "# 全組み合わせの転置行列を作成して、味x,味yに分ける\n",
    "xy = tako_cmb.T\n",
    "\n",
    "# (x,x,x)\n",
    "# (y,y,y)\n",
    "\n",
    "# xとyの積の総和を求める\n",
    "result = np.sum(xy[0]*xy[1])\n",
    "\n",
    "# 結果を出力する\n",
    "print(result)"
   ]
  },
  {
   "cell_type": "code",
   "execution_count": null,
   "metadata": {},
   "outputs": [],
   "source": []
  }
 ],
 "metadata": {
  "kernelspec": {
   "display_name": "Python 3",
   "language": "python",
   "name": "python3"
  },
  "language_info": {
   "codemirror_mode": {
    "name": "ipython",
    "version": 3
   },
   "file_extension": ".py",
   "mimetype": "text/x-python",
   "name": "python",
   "nbconvert_exporter": "python",
   "pygments_lexer": "ipython3",
   "version": "3.7.0"
  }
 },
 "nbformat": 4,
 "nbformat_minor": 4
}

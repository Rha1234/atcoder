{
 "cells": [
  {
   "cell_type": "code",
   "execution_count": null,
   "metadata": {},
   "outputs": [],
   "source": [
    "N,M,T=map(int, input().split())\n",
    "\n",
    "res = N\n",
    "ret = \"Yes\"\n",
    "\n",
    "bef_b = 0\n",
    "\n",
    "for n in range(M):\n",
    "    now_a, now_b = map(int, input().split())\n",
    "    res = res - (now_a - bef_b)\n",
    "    \n",
    "    if res <= 0:\n",
    "        ret = \"No\"\n",
    "        break\n",
    "    else:\n",
    "        res = min(now_b - now_a + res, N)\n",
    "        bef_b = now_b\n",
    "        \n",
    "print(ret if T - bef_b <= res else \"No\")"
   ]
  }
 ],
 "metadata": {
  "kernelspec": {
   "display_name": "Python 3",
   "language": "python",
   "name": "python3"
  },
  "language_info": {
   "codemirror_mode": {
    "name": "ipython",
    "version": 3
   },
   "file_extension": ".py",
   "mimetype": "text/x-python",
   "name": "python",
   "nbconvert_exporter": "python",
   "pygments_lexer": "ipython3",
   "version": "3.8.5"
  }
 },
 "nbformat": 4,
 "nbformat_minor": 4
}

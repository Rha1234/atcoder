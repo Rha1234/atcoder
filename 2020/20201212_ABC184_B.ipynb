{
 "cells": [
  {
   "cell_type": "code",
   "execution_count": 4,
   "metadata": {},
   "outputs": [
    {
     "name": "stdin",
     "output_type": "stream",
     "text": [
      " 20 199999\n",
      " oooooooooxoooooooooo\n"
     ]
    },
    {
     "name": "stdout",
     "output_type": "stream",
     "text": [
      "200017\n"
     ]
    }
   ],
   "source": [
    "N,X = map(int,input().split())\n",
    "S = input()\n",
    "\n",
    "count = X\n",
    "\n",
    "for s in S:\n",
    "    if s==\"o\":\n",
    "        count+=1\n",
    "    else:\n",
    "        if count>=1:\n",
    "            count-=1\n",
    "print(count)"
   ]
  },
  {
   "cell_type": "code",
   "execution_count": 16,
   "metadata": {},
   "outputs": [
    {
     "name": "stdin",
     "output_type": "stream",
     "text": [
      " 20 199999\n",
      " oooooooooxoooooooooo\n"
     ]
    },
    {
     "name": "stdout",
     "output_type": "stream",
     "text": [
      "200017\n"
     ]
    }
   ],
   "source": [
    "N,X = map(int,input().split())\n",
    "S = input()\n",
    "\n",
    "count = X\n",
    "\n",
    "for s in S:\n",
    "    if s==\"x\" and count>=1:\n",
    "        count-=1\n",
    "    elif s==\"o\":\n",
    "        count+=1\n",
    "\n",
    "print(count)"
   ]
  },
  {
   "cell_type": "code",
   "execution_count": 17,
   "metadata": {},
   "outputs": [
    {
     "name": "stdin",
     "output_type": "stream",
     "text": [
      " 20 199999\n",
      " oooooooooxoooooooooo\n"
     ]
    },
    {
     "name": "stdout",
     "output_type": "stream",
     "text": [
      "200017\n"
     ]
    }
   ],
   "source": [
    "N,X = map(int,input().split())\n",
    "S = input()\n",
    "\n",
    "count = X\n",
    "\n",
    "for s in S:\n",
    "    if s == \"o\":\n",
    "        count += 1\n",
    "    else:\n",
    "        count = max(0, count-1)\n",
    "        \n",
    "print(count)"
   ]
  },
  {
   "cell_type": "code",
   "execution_count": 18,
   "metadata": {},
   "outputs": [
    {
     "name": "stdin",
     "output_type": "stream",
     "text": [
      " 20 199999\n",
      " oooooooooxoooooooooo\n"
     ]
    },
    {
     "name": "stdout",
     "output_type": "stream",
     "text": [
      "200017\n"
     ]
    }
   ],
   "source": [
    "N,X = map(int,input().split())\n",
    "S = input()\n",
    "\n",
    "\n",
    "while not S == S.replace('ox',''):\n",
    "    S = S.replace('ox','')\n",
    "\n",
    "\n",
    "ans = X - S.count('x')\n",
    "\n",
    "\n",
    "if ans < 0:\n",
    "    print(S.count('o'))\n",
    "else:\n",
    "    print(ans + S.count('o'))"
   ]
  },
  {
   "cell_type": "code",
   "execution_count": null,
   "metadata": {},
   "outputs": [],
   "source": [
    "xoxxoo"
   ]
  }
 ],
 "metadata": {
  "kernelspec": {
   "display_name": "Python 3",
   "language": "python",
   "name": "python3"
  },
  "language_info": {
   "codemirror_mode": {
    "name": "ipython",
    "version": 3
   },
   "file_extension": ".py",
   "mimetype": "text/x-python",
   "name": "python",
   "nbconvert_exporter": "python",
   "pygments_lexer": "ipython3",
   "version": "3.8.5"
  }
 },
 "nbformat": 4,
 "nbformat_minor": 4
}

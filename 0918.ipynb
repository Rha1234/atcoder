{
 "cells": [
  {
   "cell_type": "raw",
   "metadata": {},
   "source": [
    "https://atcoder.jp/contests/abc128/tasks/abc128_b"
   ]
  },
  {
   "cell_type": "code",
   "execution_count": 6,
   "metadata": {},
   "outputs": [
    {
     "name": "stdin",
     "output_type": "stream",
     "text": [
      " 3\n",
      " a 30\n",
      " b 20\n",
      " a 40\n"
     ]
    },
    {
     "name": "stdout",
     "output_type": "stream",
     "text": [
      "[2, 'a', 40]\n",
      "[0, 'a', 30]\n",
      "[1, 'b', 20]\n"
     ]
    }
   ],
   "source": [
    "# input(ここでは N )を受けとる\n",
    "\n",
    "N=int(input())\n",
    "\n",
    "# input(ここでは、レストランの都市名・スコア)を受け取る\n",
    "# output例を確認すると、入力順(index)が必要なことがわかるので、先に保持しておく\n",
    "\n",
    "r_list=[]\n",
    "for i in range(N):\n",
    "    temp = input().split()   # （ 'moscow', '20' ）\n",
    "    temp[1] = int(temp[1])   # ( 'moscow',  20  )\n",
    "    temp.insert(0,i)         # ( 1, 'moscow',  20  )\n",
    "    r_list.append(temp)\n",
    "\n",
    "    \n",
    "# 出来上がった配列をソートし直す\n",
    "# sort()を使えば元の配列をソート。返り値で新しい配列欲しい場合はsorted()\n",
    "# ラムダ式の説明は省略\n",
    "\n",
    "r_list.sort(key=lambda x: x[2], reverse=True)\n",
    "r_list.sort(key=lambda x: x[1])\n",
    "\n",
    "\n",
    "# 最後に出力\n",
    "\n",
    "for r in r_list:\n",
    "    print(r)\n",
    "\n",
    "# input\n",
    "# 3\n",
    "# a 30\n",
    "# b 20\n",
    "# a 40\n",
    "\n",
    "# output\n",
    "# [2, 'a', 40]\n",
    "# [0, 'a', 30]\n",
    "# [1, 'b', 20]"
   ]
  },
  {
   "cell_type": "code",
   "execution_count": null,
   "metadata": {},
   "outputs": [],
   "source": []
  }
 ],
 "metadata": {
  "kernelspec": {
   "display_name": "Python 3",
   "language": "python",
   "name": "python3"
  },
  "language_info": {
   "codemirror_mode": {
    "name": "ipython",
    "version": 3
   },
   "file_extension": ".py",
   "mimetype": "text/x-python",
   "name": "python",
   "nbconvert_exporter": "python",
   "pygments_lexer": "ipython3",
   "version": "3.7.0"
  }
 },
 "nbformat": 4,
 "nbformat_minor": 4
}

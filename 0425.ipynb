{
 "cells": [
  {
   "cell_type": "raw",
   "metadata": {},
   "source": [
    "https://atcoder.jp/contests/abc141/tasks/abc141_a"
   ]
  },
  {
   "cell_type": "code",
   "execution_count": 5,
   "metadata": {},
   "outputs": [
    {
     "name": "stdin",
     "output_type": "stream",
     "text": [
      " Rainy\n"
     ]
    },
    {
     "name": "stdout",
     "output_type": "stream",
     "text": [
      "Sunny\n"
     ]
    }
   ],
   "source": [
    "S=input()\n",
    "W=['Sunny','Cloudy','Rainy']\n",
    "print(W[W.index(S)+1] if W.index(S)!=2 else 'Sunny')"
   ]
  },
  {
   "cell_type": "markdown",
   "metadata": {},
   "source": [
    "#### 良いと思った解答"
   ]
  },
  {
   "cell_type": "code",
   "execution_count": 6,
   "metadata": {},
   "outputs": [
    {
     "name": "stdin",
     "output_type": "stream",
     "text": [
      " Sunny\n"
     ]
    },
    {
     "name": "stdout",
     "output_type": "stream",
     "text": [
      "Cloudy\n"
     ]
    }
   ],
   "source": [
    "s=input()\n",
    "l=[\"Sunny\",\"Cloudy\",\"Rainy\"]\n",
    "print(l[(l.index(s)+1)%3])"
   ]
  },
  {
   "cell_type": "markdown",
   "metadata": {},
   "source": [
    "* 要素数が3のリスト ⇒ mod3を使う考え方\n",
    "* 安易にif文を書かずに、簡単な算数・数学の知識で対応できないか考える"
   ]
  },
  {
   "cell_type": "raw",
   "metadata": {},
   "source": [
    "模擬：曜日が入力されるので、2日後(明後日)の曜日を出力しなさい"
   ]
  },
  {
   "cell_type": "code",
   "execution_count": 10,
   "metadata": {},
   "outputs": [
    {
     "name": "stdin",
     "output_type": "stream",
     "text": [
      " SAT\n"
     ]
    },
    {
     "name": "stdout",
     "output_type": "stream",
     "text": [
      "MON\n"
     ]
    }
   ],
   "source": [
    "S=input()\n",
    "W=['SUN','MON','TUE','WED','THU','FRI','SAT']\n",
    "print(W[(W.index(S)+2)%7])"
   ]
  },
  {
   "cell_type": "raw",
   "metadata": {},
   "source": [
    "https://atcoder.jp/contests/abc140/tasks/abc140_a"
   ]
  },
  {
   "cell_type": "code",
   "execution_count": 12,
   "metadata": {},
   "outputs": [
    {
     "name": "stdin",
     "output_type": "stream",
     "text": [
      " 1\n"
     ]
    },
    {
     "name": "stdout",
     "output_type": "stream",
     "text": [
      "1\n"
     ]
    }
   ],
   "source": [
    "N=int(input())\n",
    "print(pow(N,3))"
   ]
  },
  {
   "cell_type": "raw",
   "metadata": {},
   "source": [
    "https://atcoder.jp/contests/abc139/tasks/abc139_a"
   ]
  },
  {
   "cell_type": "code",
   "execution_count": 15,
   "metadata": {},
   "outputs": [
    {
     "name": "stdin",
     "output_type": "stream",
     "text": [
      " RRR\n",
      " SSS\n"
     ]
    },
    {
     "name": "stdout",
     "output_type": "stream",
     "text": [
      "0\n"
     ]
    }
   ],
   "source": [
    "S=input()\n",
    "T=input()\n",
    "cnt=0\n",
    "for i in range(3):\n",
    "    if S[i]==T[i]:\n",
    "        cnt+=1\n",
    "print(cnt)"
   ]
  },
  {
   "cell_type": "raw",
   "metadata": {},
   "source": [
    "https://atcoder.jp/contests/abc138/tasks/abc138_a"
   ]
  },
  {
   "cell_type": "code",
   "execution_count": 2,
   "metadata": {},
   "outputs": [
    {
     "name": "stdin",
     "output_type": "stream",
     "text": [
      " 3199\n",
      " pink\n"
     ]
    },
    {
     "name": "stdout",
     "output_type": "stream",
     "text": [
      "red\n"
     ]
    }
   ],
   "source": [
    "a=int(input())\n",
    "s=input()\n",
    "print(s if a>=3200 else 'red')"
   ]
  },
  {
   "cell_type": "raw",
   "metadata": {},
   "source": [
    "https://atcoder.jp/contests/abc137/tasks/abc137_a"
   ]
  },
  {
   "cell_type": "code",
   "execution_count": null,
   "metadata": {},
   "outputs": [],
   "source": []
  }
 ],
 "metadata": {
  "kernelspec": {
   "display_name": "Python 3",
   "language": "python",
   "name": "python3"
  },
  "language_info": {
   "codemirror_mode": {
    "name": "ipython",
    "version": 3
   },
   "file_extension": ".py",
   "mimetype": "text/x-python",
   "name": "python",
   "nbconvert_exporter": "python",
   "pygments_lexer": "ipython3",
   "version": "3.7.5"
  }
 },
 "nbformat": 4,
 "nbformat_minor": 4
}

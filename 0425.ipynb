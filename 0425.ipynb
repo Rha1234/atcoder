{
 "cells": [
  {
   "cell_type": "raw",
   "metadata": {},
   "source": [
    "https://atcoder.jp/contests/abc141/tasks/abc141_a"
   ]
  },
  {
   "cell_type": "code",
   "execution_count": 5,
   "metadata": {},
   "outputs": [
    {
     "name": "stdin",
     "output_type": "stream",
     "text": [
      " Rainy\n"
     ]
    },
    {
     "name": "stdout",
     "output_type": "stream",
     "text": [
      "Sunny\n"
     ]
    }
   ],
   "source": [
    "S=input()\n",
    "W=['Sunny','Cloudy','Rainy']\n",
    "print(W[W.index(S)+1] if W.index(S)!=2 else 'Sunny')"
   ]
  },
  {
   "cell_type": "raw",
   "metadata": {},
   "source": [
    "良いと思った解答"
   ]
  },
  {
   "cell_type": "code",
   "execution_count": null,
   "metadata": {},
   "outputs": [],
   "source": [
    "s=input()\n",
    "l=[\"Sunny\",\"Cloudy\",\"Rainy\"]\n",
    "print(l[(l.index(s)+1)%3])"
   ]
  }
 ],
 "metadata": {
  "kernelspec": {
   "display_name": "Python 3",
   "language": "python",
   "name": "python3"
  },
  "language_info": {
   "codemirror_mode": {
    "name": "ipython",
    "version": 3
   },
   "file_extension": ".py",
   "mimetype": "text/x-python",
   "name": "python",
   "nbconvert_exporter": "python",
   "pygments_lexer": "ipython3",
   "version": "3.7.5"
  }
 },
 "nbformat": 4,
 "nbformat_minor": 4
}

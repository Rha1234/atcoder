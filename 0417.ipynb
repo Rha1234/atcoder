{
 "cells": [
  {
   "cell_type": "raw",
   "metadata": {},
   "source": [
    "https://atcoder.jp/contests/abc069/tasks/abc069_b"
   ]
  },
  {
   "cell_type": "code",
   "execution_count": 2,
   "metadata": {},
   "outputs": [
    {
     "name": "stdin",
     "output_type": "stream",
     "text": [
      " apple\n"
     ]
    },
    {
     "name": "stdout",
     "output_type": "stream",
     "text": [
      "a3e\n"
     ]
    }
   ],
   "source": [
    "s=input()\n",
    "n=len(s)-2\n",
    "ans=s[0]+str(n)+s[-1]\n",
    "print(ans)"
   ]
  },
  {
   "cell_type": "raw",
   "metadata": {},
   "source": [
    "https://atcoder.jp/contests/abc162/tasks/abc162_a"
   ]
  },
  {
   "cell_type": "code",
   "execution_count": 4,
   "metadata": {},
   "outputs": [
    {
     "name": "stdin",
     "output_type": "stream",
     "text": [
      " 444\n"
     ]
    },
    {
     "name": "stdout",
     "output_type": "stream",
     "text": [
      "No\n"
     ]
    }
   ],
   "source": [
    "N=input()\n",
    "print('Yes' if '7' in N else 'No')"
   ]
  },
  {
   "cell_type": "raw",
   "metadata": {},
   "source": [
    "https://atcoder.jp/contests/abc161/tasks/abc161_a"
   ]
  },
  {
   "cell_type": "code",
   "execution_count": 6,
   "metadata": {},
   "outputs": [
    {
     "name": "stdin",
     "output_type": "stream",
     "text": [
      " 11 22 33\n"
     ]
    },
    {
     "name": "stdout",
     "output_type": "stream",
     "text": [
      "33 11 22\n"
     ]
    }
   ],
   "source": [
    "x,y,z=input().split()\n",
    "print(z,x,y, sep=\" \")"
   ]
  },
  {
   "cell_type": "raw",
   "metadata": {},
   "source": [
    "https://atcoder.jp/contests/abc160/tasks/abc160_a"
   ]
  },
  {
   "cell_type": "code",
   "execution_count": 13,
   "metadata": {},
   "outputs": [
    {
     "name": "stdin",
     "output_type": "stream",
     "text": [
      " hoggeg\n"
     ]
    },
    {
     "name": "stdout",
     "output_type": "stream",
     "text": [
      "No\n"
     ]
    }
   ],
   "source": [
    "s=input()\n",
    "print('Yes' if s[2]==s[3] and s[4]==s[5] else 'No')"
   ]
  },
  {
   "cell_type": "raw",
   "metadata": {},
   "source": [
    "https://atcoder.jp/contests/abc159/tasks/abc159_a"
   ]
  },
  {
   "cell_type": "code",
   "execution_count": 3,
   "metadata": {},
   "outputs": [
    {
     "name": "stdin",
     "output_type": "stream",
     "text": [
      " 13 3\n"
     ]
    },
    {
     "name": "stdout",
     "output_type": "stream",
     "text": [
      "81\n"
     ]
    }
   ],
   "source": [
    "N,M=map(int,input().split())\n",
    "print(N*(N-1)//2*1 + M*(M-1)//2*1)"
   ]
  },
  {
   "cell_type": "raw",
   "metadata": {},
   "source": [
    "https://atcoder.jp/contests/abc158/tasks/abc158_a"
   ]
  },
  {
   "cell_type": "code",
   "execution_count": 6,
   "metadata": {},
   "outputs": [
    {
     "name": "stdin",
     "output_type": "stream",
     "text": [
      " AAA\n"
     ]
    },
    {
     "name": "stdout",
     "output_type": "stream",
     "text": [
      "No\n"
     ]
    }
   ],
   "source": [
    "S=input()\n",
    "print('No' if S=='AAA' or S=='BBB' else 'Yes')"
   ]
  },
  {
   "cell_type": "raw",
   "metadata": {},
   "source": [
    "https://atcoder.jp/contests/abc157/tasks/abc157_a"
   ]
  },
  {
   "cell_type": "code",
   "execution_count": 10,
   "metadata": {},
   "outputs": [
    {
     "name": "stdin",
     "output_type": "stream",
     "text": [
      " 100\n"
     ]
    },
    {
     "name": "stdout",
     "output_type": "stream",
     "text": [
      "50\n"
     ]
    }
   ],
   "source": [
    "N=int(input())\n",
    "print(N//2 if N%2==0 else N//2+1)"
   ]
  },
  {
   "cell_type": "raw",
   "metadata": {},
   "source": [
    "https://atcoder.jp/contests/abc156/tasks/abc156_a"
   ]
  },
  {
   "cell_type": "code",
   "execution_count": 16,
   "metadata": {},
   "outputs": [
    {
     "name": "stdin",
     "output_type": "stream",
     "text": [
      " 22 3051\n"
     ]
    },
    {
     "name": "stdout",
     "output_type": "stream",
     "text": [
      "3051\n"
     ]
    }
   ],
   "source": [
    "N,R=map(int,input().split())\n",
    "print(R if N>=10 else R+100*(10-N))"
   ]
  },
  {
   "cell_type": "raw",
   "metadata": {},
   "source": [
    "https://atcoder.jp/contests/abc155/tasks/abc155_a"
   ]
  },
  {
   "cell_type": "code",
   "execution_count": 31,
   "metadata": {},
   "outputs": [
    {
     "name": "stdin",
     "output_type": "stream",
     "text": [
      " 5 7 5\n"
     ]
    },
    {
     "name": "stdout",
     "output_type": "stream",
     "text": [
      "No\n"
     ]
    }
   ],
   "source": [
    "A,B,C=map(int,input().split())\n",
    "print('No' if A==B==C or A!=B!=C else 'Yes')"
   ]
  },
  {
   "cell_type": "raw",
   "metadata": {},
   "source": [
    "間違い\n",
    "・5 7 5のときYesと出るべきだが出ない\n",
    "・A!=B!=Cの条件に当てはまる\n",
    "\n",
    "方針として、含まれる数字が2種類の場合Yesと表示させる"
   ]
  },
  {
   "cell_type": "code",
   "execution_count": 37,
   "metadata": {},
   "outputs": [
    {
     "name": "stdin",
     "output_type": "stream",
     "text": [
      " 4 4 4\n"
     ]
    },
    {
     "name": "stdout",
     "output_type": "stream",
     "text": [
      "No\n"
     ]
    }
   ],
   "source": [
    "ABC=input().split()\n",
    "print('Yes' if len(set(ABC))==2 else 'No')"
   ]
  },
  {
   "cell_type": "raw",
   "metadata": {},
   "source": []
  }
 ],
 "metadata": {
  "kernelspec": {
   "display_name": "Python 3",
   "language": "python",
   "name": "python3"
  },
  "language_info": {
   "codemirror_mode": {
    "name": "ipython",
    "version": 3
   },
   "file_extension": ".py",
   "mimetype": "text/x-python",
   "name": "python",
   "nbconvert_exporter": "python",
   "pygments_lexer": "ipython3",
   "version": "3.7.5"
  }
 },
 "nbformat": 4,
 "nbformat_minor": 4
}

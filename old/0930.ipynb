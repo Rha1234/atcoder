{
 "cells": [
  {
   "cell_type": "code",
   "execution_count": null,
   "metadata": {},
   "outputs": [],
   "source": [
    "# 入力を受け取る\n",
    "N,L = map(int, input().split())\n",
    "\n",
    "# 数列を作成する\n",
    "nums = list(range(1,N+1))\n",
    "tasts = [L+num-1 for num in nums]\n",
    "\n",
    "# 味の絶対値が最も小さいリンゴのindexを特定する\n",
    "abs_tasts = list(map(abs,tasts))\n",
    "index = abs_tasts.index(min(abs_tasts))\n",
    "tasts.pop(index)\n",
    "\n",
    "# 上記リンゴを除いた残りのリンゴの味の総和を求める\n",
    "print(sum(tasts))"
   ]
  }
 ],
 "metadata": {
  "kernelspec": {
   "display_name": "Python 3",
   "language": "python",
   "name": "python3"
  },
  "language_info": {
   "codemirror_mode": {
    "name": "ipython",
    "version": 3
   },
   "file_extension": ".py",
   "mimetype": "text/x-python",
   "name": "python",
   "nbconvert_exporter": "python",
   "pygments_lexer": "ipython3",
   "version": "3.7.0"
  }
 },
 "nbformat": 4,
 "nbformat_minor": 4
}

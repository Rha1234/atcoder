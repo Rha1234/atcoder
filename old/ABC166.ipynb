{
 "cells": [
  {
   "cell_type": "markdown",
   "metadata": {},
   "source": [
    "https://atcoder.jp/contests/abc166/tasks/abc166_a"
   ]
  },
  {
   "cell_type": "code",
   "execution_count": 3,
   "metadata": {},
   "outputs": [
    {
     "name": "stdin",
     "output_type": "stream",
     "text": [
      " ARC\n"
     ]
    },
    {
     "name": "stdout",
     "output_type": "stream",
     "text": [
      "ABC\n"
     ]
    }
   ],
   "source": [
    "S=input()\n",
    "print('ABC' if S=='ARC' else 'ARC')"
   ]
  },
  {
   "cell_type": "markdown",
   "metadata": {},
   "source": [
    "https://atcoder.jp/contests/abc166/tasks/abc166_b"
   ]
  },
  {
   "cell_type": "code",
   "execution_count": 66,
   "metadata": {},
   "outputs": [
    {
     "name": "stdin",
     "output_type": "stream",
     "text": [
      " 3 3\n",
      " 1\n",
      " 3\n",
      " 1\n",
      " 3\n",
      " 1\n",
      " 3\n"
     ]
    },
    {
     "name": "stdout",
     "output_type": "stream",
     "text": [
      "2\n"
     ]
    }
   ],
   "source": [
    "import itertools\n",
    "N,K=map(int,input().split())\n",
    "d=[]\n",
    "A=[]\n",
    "for i in range(1,K+1):\n",
    "    d.append(int(input()))\n",
    "    A.append(list((map(int,input().split()))))\n",
    "A=list(itertools.chain.from_iterable(A))\n",
    "print(N-len(set(A)))"
   ]
  },
  {
   "cell_type": "markdown",
   "metadata": {},
   "source": [
    "https://atcoder.jp/contests/abc166/tasks/abc166_c"
   ]
  },
  {
   "cell_type": "code",
   "execution_count": 115,
   "metadata": {},
   "outputs": [
    {
     "name": "stdin",
     "output_type": "stream",
     "text": [
      " 4 3\n",
      " 1 2 3 4\n",
      " 1 3\n",
      " 2 3\n",
      " 2 4\n"
     ]
    },
    {
     "name": "stdout",
     "output_type": "stream",
     "text": [
      "2\n"
     ]
    }
   ],
   "source": [
    "import numpy as np\n",
    "\n",
    "N,M=map(int,input().split())\n",
    "H=list(map(int,input().split()))\n",
    "A=[list(map(int,input().split())) for i in range(M)]\n",
    "\n",
    "ok=np.ones(N)\n",
    "for i in range(M):\n",
    "    if H[A[i][0]-1]>H[A[i][1]-1]:\n",
    "        ok[A[i][1]-1]=0\n",
    "    elif H[A[i][0]-1]==H[A[i][1]-1]:\n",
    "        ok[A[i][0]-1]=0\n",
    "        ok[A[i][1]-1]=0\n",
    "    else:\n",
    "        ok[A[i][0]-1]=0\n",
    "print(int(np.sum(ok)))"
   ]
  },
  {
   "cell_type": "markdown",
   "metadata": {},
   "source": []
  },
  {
   "cell_type": "code",
   "execution_count": null,
   "metadata": {},
   "outputs": [],
   "source": []
  },
  {
   "cell_type": "code",
   "execution_count": null,
   "metadata": {},
   "outputs": [],
   "source": []
  }
 ],
 "metadata": {
  "kernelspec": {
   "display_name": "Python 3",
   "language": "python",
   "name": "python3"
  },
  "language_info": {
   "codemirror_mode": {
    "name": "ipython",
    "version": 3
   },
   "file_extension": ".py",
   "mimetype": "text/x-python",
   "name": "python",
   "nbconvert_exporter": "python",
   "pygments_lexer": "ipython3",
   "version": "3.7.5"
  }
 },
 "nbformat": 4,
 "nbformat_minor": 4
}

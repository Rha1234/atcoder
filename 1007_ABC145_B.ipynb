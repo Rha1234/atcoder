{
 "cells": [
  {
   "cell_type": "markdown",
   "metadata": {},
   "source": [
    "### 愚直に実装"
   ]
  },
  {
   "cell_type": "code",
   "execution_count": 11,
   "metadata": {},
   "outputs": [
    {
     "name": "stdin",
     "output_type": "stream",
     "text": [
      " 1\n",
      " z\n"
     ]
    },
    {
     "name": "stdout",
     "output_type": "stream",
     "text": [
      "No\n"
     ]
    }
   ],
   "source": [
    "#入力を受け取る\n",
    "N=int(input())\n",
    "S=input()\n",
    "\n",
    "#結果をNOで初期化する\n",
    "result='No'\n",
    "\n",
    "#文字列の長さが奇数か偶数か判断する\n",
    "#奇数であれば結果は'No'のまま、偶数であれば半分に割った文字列をそれぞれを比較して一致していれば結果を'Yes'に更新する\n",
    "if len(S)%2==0:\n",
    "     if S[:len(S)//2]==S[len(S)//2:]:\n",
    "            result='Yes'\n",
    "\n",
    "#結果を出力する\n",
    "print(result)"
   ]
  },
  {
   "cell_type": "markdown",
   "metadata": {},
   "source": [
    "### 条件をまとめて短く書く（可読性落ちる？）"
   ]
  },
  {
   "cell_type": "code",
   "execution_count": 14,
   "metadata": {},
   "outputs": [
    {
     "name": "stdin",
     "output_type": "stream",
     "text": [
      " 6\n",
      " abcabc\n"
     ]
    },
    {
     "name": "stdout",
     "output_type": "stream",
     "text": [
      "Yes\n"
     ]
    }
   ],
   "source": [
    "N=int(input())\n",
    "S=input()\n",
    "print('Yes' if len(S)%2==0 and S[:len(S)//2]==S[len(S)//2:] else 'No')"
   ]
  },
  {
   "cell_type": "markdown",
   "metadata": {},
   "source": [
    "### 参考"
   ]
  },
  {
   "cell_type": "raw",
   "metadata": {},
   "source": [
    "s = 'abcde'\n",
    "\n",
    "print(s[1:3])\n",
    "# bc\n",
    "\n",
    "print(s[:3])\n",
    "# abc\n",
    "\n",
    "print(s[1:])\n",
    "# bcde"
   ]
  }
 ],
 "metadata": {
  "kernelspec": {
   "display_name": "Python 3",
   "language": "python",
   "name": "python3"
  },
  "language_info": {
   "codemirror_mode": {
    "name": "ipython",
    "version": 3
   },
   "file_extension": ".py",
   "mimetype": "text/x-python",
   "name": "python",
   "nbconvert_exporter": "python",
   "pygments_lexer": "ipython3",
   "version": "3.7.0"
  }
 },
 "nbformat": 4,
 "nbformat_minor": 4
}
